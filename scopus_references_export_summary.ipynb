{
 "cells": [
  {
   "cell_type": "code",
   "execution_count": 1,
   "metadata": {},
   "outputs": [],
   "source": [
    "from dotenv import find_dotenv, load_dotenv\n",
    "import os\n",
    "\n",
    "assert load_dotenv(find_dotenv())\n",
    "assert os.getenv('OPENAI_API_KEY')\n",
    "assert os.getenv('OPENAI_BASE_URL')"
   ]
  },
  {
   "cell_type": "code",
   "execution_count": 4,
   "metadata": {},
   "outputs": [
    {
     "data": {
      "text/plain": [
       "'本文探讨了加密货币的伦理和环境问题。首先，文章指出主要加密货币的挖矿过程消耗大量电力，对能源生产和全球变暖产生重大影响。其次，讨论了加密货币带来的新型暗经济，特别是由于交易的匿名性，导致加密货币被用于洗钱、逃税、资助非法活动（如非法产品、恐怖主义融资）和网络攻击等不道德用途。最后，文章阐述了加密货币的伦理用途，指出其保护隐私和交易匿名性的特性可以降低交易成本、减少贫困，并在债务危机和恶性通货膨胀等情况下发挥积极作用。因此，加密货币本身并非邪恶，关键在于其使用方式。'"
      ]
     },
     "execution_count": 4,
     "metadata": {},
     "output_type": "execute_result"
    }
   ],
   "source": [
    "import ell\n",
    "from openai import OpenAI\n",
    "\n",
    "ell.init(store='./logdir', autocommit=True, verbose=False)\n",
    "client = OpenAI()\n",
    "\n",
    "@ell.simple(model='Qwen/Qwen2.5-72B-Instruct-128K', client=client, temperature=0.5)\n",
    "def summary_article_by_abstract(title: str, abstract: str):\n",
    "    \"\"\"你是一名IS领域的教授。请根据学生发送的文章题目和摘要，帮助总结文章的内容。要求：不要产生幻觉；使用中文；你需要返回字符串格式的总结的内容；\"\"\"\n",
    "    return f\"文章名称：{title}；\\n文章摘要：{abstract}；\"\n",
    "\n",
    "summary_article_by_abstract(\n",
    "    title=\"Are virtual currencies virtuous? Ethical and environmental issues\",\n",
    "    abstract=\"Cryptocurrencies have gained in popularity and generated a great deal of enthusiasm in recent years with regard to the sustained increase in the number of transactions achieved by miners. On what scale can we consider the process and uses of virtual money to be ethical? What are the misuses related to their use? In this chapter, we study the ethical and environmental issues of cryptocurrencies. First, regarding the environmental issue, the major cryptocurrencies use a large amount of electricity for mining, which has a significant impact on the energy production system and global warming. Second, we discuss the new type of Dark economy that has emerged with these currencies, thanks to the anonymity of transactions. We particularly emphasize the unethical use of cryptocurrencies, namely the virtual money laundering and tax evasion, the financing of illegal activities (i.e. illicit products, terrorist financing) and cyber-attacks. Third, we develop the ethical use of virtual money and show that this kind of currency, which guarantees the protection of privacy and anonymity of transactions, can be a good solution to mitigate transaction costs and reduce poverty. They can also be beneficial in the context of debt crises and hyperinflation. Thus, cryptocurrencies per se are not evil; it is their uses that can be. © Springer Nature Switzerland AG 2019.\",\n",
    ")"
   ]
  },
  {
   "cell_type": "code",
   "execution_count": 5,
   "metadata": {},
   "outputs": [
    {
     "name": "stdout",
     "output_type": "stream",
     "text": [
      "How close do we feel to virtual product to make a purchase decision? Impact of perceived proximity to virtual product and temporal purchase intention\n",
      "该研究利用构念层次理论，探讨了消费者感知到的与虚拟产品之间的接近性对近期购买意向的影响。研究通过实验室实验测试了六个假设。结果显示，感知到的接近性能够增强对虚拟产品的测量反馈感知，进而提高感知的一般性。当消费者使用非增强现实应用时，感知的一般性完全中介了测量反馈感知对近期购买意向的影响。然而，在增强现实应用中，测量反馈感知直接对近期购买意向产生影响。此外，当产品未被列入消费者的考虑集合时，感知的一般性对近期购买意向的影响会减弱，这主要发生在非增强现实应用中。该研究为增强现实应用的开发者和在线零售商提供了若干管理建议。\n",
      "\n",
      "Negative online reviews and consumers’ service consumption\n",
      "文章《Negative online reviews and consumers’ service consumption》探讨了心理距离和先前的信息搜索投入如何影响消费者对负面电子口碑（eWOM）的反应。研究发现，当消费者感觉服务消费在心理上接近时，他们在信息搜索上的时间投入会减少负面eWOM对其行为意图的影响，即使面对高度负面的论坛共识也是如此。然而，当消费体验被感知为心理上遥远时，时间投入无法缓冲负面eWOM的影响，且论坛共识会放大这种影响。研究结果对服务企业具有重要意义，表明消费者在做出评价和决策时可能会受到心理距离和沉没成本的影响。\n",
      "\n",
      "Effects of multiple psychological distances on construal and consumer evaluation: A field study of online reviews\n",
      "这篇文章通过一项大规模的实地研究，分析了166,215条在线餐厅评论，探讨了空间距离（即评论者撰写关于地理位置较远的餐厅的评论，而非附近的餐厅）和时间距离（即在长时间延迟后撰写评论，而非立即撰写）对评论积极度的共同影响。研究发现，这两种心理距离的体验会增强消费者的高层次认知构建，从而提高评论的积极度。尽管以往的研究已经探讨了心理距离、认知构建与消费者评价之间的关系，但这些研究通常只单独考虑心理距离的不同维度。本文的贡献在于同时测试了两种心理距离维度对认知构建和消费者评价的影响，并且由于数据包含自然观察，因此涵盖了广泛的时间和空间距离。研究结果表明，一种心理距离的效果可以被另一种心理距离所增强。\n",
      "\n",
      "Effects of construal level on the price-quality relationship\n",
      "这篇文章基于建构水平理论，探讨了消费者在做出质量推断时对价格（而非特定产品属性）的依赖程度如何受到心理距离的影响。研究提出，当判断对象与消费者的心理距离较远时（例如为他人而非自己做出推断时），价格对质量推断的影响会增强，而特定产品属性的影响则会减弱。通过一系列实验，研究支持了这一假设，并且（1）记录了理论推导出的核心模式的反转，（2）将当前研究结果与建构水平文献中看似相反的结果进行了调和，（3）排除了对所获得效应的几种替代解释。这项研究的见解丰富了我们对价格与质量关系、建构水平理论以及自我与他人区分这三个研究领域的理解。\n",
      "\n",
      "Ethical ends: Effect of abstract mindsets in ethical decisions for the greater social good\n",
      "本文探讨了构念水平（construal level）对涉及多个伦理原则冲突的决策的影响。研究发现，抽象思维模式使人们在仅个人受益的情况下更倾向于遵守伦理原则，而在可以促进更大社会利益时则可能违背伦理原则。相比之下，具体思维模式下的人们更关注个人经济利益，对更大社会利益的影响关心较少。具体实验结果显示，在抽象思维模式下，人们为了获得更多的捐款而表现出不诚实的行为（研究1），并且当慈善机构支持更大的社会利益时，人们会更加不诚实以增加捐款，而当慈善机构威胁到更大的社会利益时，人们则会减少捐款（研究2a，研究2b）。而在具体思维模式下，人们更多地表现出为了个人利益而不诚实的行为（研究1，研究2a，研究2b）。\n",
      "\n",
      "Why feasibility matters more to gift receivers than to givers: A construal-level approach to gift giving\n",
      "文章探讨了送礼者和收礼者在礼物的可取性和可行性之间进行权衡时的不同心理过程，基于构念层次理论（construal level theory）的框架。文章指出，在送礼者和收礼者之间存在不对称的距离感，导致送礼者倾向于以抽象的方式构念礼物，因此更加重视礼物的可取性（如吸引力、情感价值等）而非可行性（如实用性、方便性等）。研究结果表明，尽管送礼者认为自己选择的礼物能够最大化收礼者的幸福感或其他关系目标，但实际上他们并未做到这一点。此外，文章还发现送礼者对与收礼者的距离敏感，而收礼者则对此并不敏感。\n",
      "\n",
      "Coupons or free shipping? Effects of price promotion strategies on online review ratings\n",
      "该研究探讨了两种常见的价格促销策略——折扣（如提供优惠券）和减免附加费（如免费送货）——如何在购买与评价的时间距离不同的情况下，对在线评价评分产生不同的影响。研究基于框架效应和构念层次理论，提出免费送货会增加评价评分，而优惠券在购买后不久会通过消费者感知到的货币节省增加评价评分，但随着时间的推移，会因感知到的产品质量较低而降低评价评分。研究结果表明，优惠券在短期内对评价评分有正面影响，但在长期内有负面影响；而免费送货在不同时间点上对评价评分都有正面影响。通过对电子商务网站上的在线消费者评价内容进行文本挖掘分析，研究发现了与提出的潜在机制相一致的模式。此外，研究还通过两个实验室实验，分别操纵时间距离和构念层次，使用真实的消费和消费体验，为优惠券与免费送货在不同时间点上对评价评分的不同影响提供了进一步的证据，并展示了由于货币节省感知和产品质量感知导致的潜在过程。\n",
      "\n",
      "Design Antecedents of Telepresence in Virtual Service Environments\n",
      "本文研究了如何通过虚拟服务环境的视觉设计来实现远程临场感（即在物理位置不在某地时，主观体验到自己处于计算机中介的环境中）。研究整合了Kaplan和Kaplan关于信息变量（神秘性、复杂性、可读性和连贯性）的框架与构念水平理论，探讨了这些信息变量对远程临场感的唤起能力及其对消费者行为意向的影响。通过三项使用混合方法和不同样本的研究，研究发现信息变量对远程临场感的影响程度不同。第一项研究通过内容分析，由专家评委对全球范围内的虚拟服务环境进行评估，提供了信息变量影响远程临场感的初步证据。第二项研究通过商业调查，表明神秘性和复杂性（感官更丰富的变量）对消费者接近意向的影响是通过远程临场感中介的。第三项研究使用消费者样本，复制了远程临场感的中介作用，并证明了个人的视觉处理风格会调节神秘性和复杂性的影响。这些效果在存在通过美学的替代路径时依然稳健，且不受消费者对服务环境的熟悉程度、类别知识和参与度的影响。管理启示集中在如何通过增加神秘性和复杂性来提高远程临场感。\n",
      "\n",
      "The role of psychological distance in organizational responses to modern slavery risk in supply chains\n",
      "该文章探讨了心理距离在组织应对供应链中现代奴隶制风险时的作用。现代奴隶制涉及全球超过4000万人的强迫劳动剥削，由于这些剥削行为存在于非正式经济中，并且涉及弱势个体，因此难以被识别。尽管企业越来越重视管理供应链中的现代奴隶制风险，但它们对现代奴隶制的理解仍然有限。文章认为，企业努力管理现代奴隶制风险的一个关键问题是，现代奴隶制对他们来说是一个心理上遥远的概念。作者应用了构念水平理论来研究组织对现代奴隶制风险的心理距离如何影响其风险管理。通过对澳大利亚、芬兰和美国的41家全球组织的采购高管进行访谈，作者识别出四种在不同心理距离水平上管理现代奴隶制风险的方法。此外，文章还指出，组织在风险管理方法上与其经营环境中的风险识别之间的冲突，会引发重要的构念转变，有助于提升组织对劳动相关风险的理解。文章强调了组织对现代奴隶制风险的理解在其供应链治理中的作用。\n",
      "\n",
      "‘Where I come from’ determines, ‘how I construe my future’: the fit effect of culture, temporal distance, and construal level\n",
      "该研究探讨了个人的文化取向如何影响他们的构念水平与时间距离之间的关系。研究包括两个部分，共有503名来自韩国和美国的学生参与。第一部分通过行为识别表和分析参与者对自己生活的描述，检验了文化与构念水平之间的关系，以及文化对时间距离和个体构念水平的影响。第二部分则研究了文化、时间距离和构念水平框架在说服性信息（强调产品可取性与可行性）中的三重交互作用。研究结果表明，个人的文化取向会影响他们的构念水平和感知的时间距离。在广告情境中，当来自集体主义文化背景的个体处于时间距离较近的条件下时，他们对强调产品可行性特征的广告表现出更积极的态度；而来自个人主义文化背景的个体则相反。\n",
      "\n",
      "A Match Made in Heaven or Down Under? The Effectiveness of Matching Visual and Verbal Horizons in Advertising\n",
      "根据 construal level 理论，消费者的处理方式随着心理距离的增加而变得更加抽象，但当心理距离减少时则变得更加具体。本文提供了证据，表明在全景图片中地平线出现在画面的下半部分与上半部分会触发不同的 construal 水平。因此，本研究提出了一种新的 construal 来源。此外，研究还表明，当视觉（例如地平线高度）和文字（例如时间利益）广告元素同时诱导出相同的 construal 水平时，广告效果会增强。这项工作的独特之处在于，它关注的是两个广告特征所引发的 construal 一致性，而不是外部刺激与消费者内部心态之间的 construal 一致性。\n",
      "\n"
     ]
    },
    {
     "ename": "KeyboardInterrupt",
     "evalue": "",
     "output_type": "error",
     "traceback": [
      "\u001b[1;31m---------------------------------------------------------------------------\u001b[0m",
      "\u001b[1;31mKeyboardInterrupt\u001b[0m                         Traceback (most recent call last)",
      "Cell \u001b[1;32mIn[5], line 9\u001b[0m\n\u001b[0;32m      7\u001b[0m results \u001b[38;5;241m=\u001b[39m []\n\u001b[0;32m      8\u001b[0m \u001b[38;5;28;01mfor\u001b[39;00m i, row \u001b[38;5;129;01min\u001b[39;00m df\u001b[38;5;241m.\u001b[39miterrows():\n\u001b[1;32m----> 9\u001b[0m     summary \u001b[38;5;241m=\u001b[39m \u001b[43msummary_article_by_abstract\u001b[49m\u001b[43m(\u001b[49m\n\u001b[0;32m     10\u001b[0m \u001b[43m        \u001b[49m\u001b[43mtitle\u001b[49m\u001b[38;5;241;43m=\u001b[39;49m\u001b[43mrow\u001b[49m\u001b[43m[\u001b[49m\u001b[38;5;124;43m'\u001b[39;49m\u001b[38;5;124;43m文献标题\u001b[39;49m\u001b[38;5;124;43m'\u001b[39;49m\u001b[43m]\u001b[49m\u001b[43m,\u001b[49m\n\u001b[0;32m     11\u001b[0m \u001b[43m        \u001b[49m\u001b[43mabstract\u001b[49m\u001b[38;5;241;43m=\u001b[39;49m\u001b[43mrow\u001b[49m\u001b[43m[\u001b[49m\u001b[38;5;124;43m'\u001b[39;49m\u001b[38;5;124;43m摘要\u001b[39;49m\u001b[38;5;124;43m'\u001b[39;49m\u001b[43m]\u001b[49m\u001b[43m,\u001b[49m\n\u001b[0;32m     12\u001b[0m \u001b[43m    \u001b[49m\u001b[43m)\u001b[49m\n\u001b[0;32m     14\u001b[0m     \u001b[38;5;28mprint\u001b[39m(row[\u001b[38;5;124m'\u001b[39m\u001b[38;5;124m文献标题\u001b[39m\u001b[38;5;124m'\u001b[39m])\n\u001b[0;32m     15\u001b[0m     \u001b[38;5;28mprint\u001b[39m(summary)\n",
      "File \u001b[1;32mc:\\Users\\kexu\\scoop\\apps\\miniconda3\\current\\envs\\langchain\\Lib\\site-packages\\ell\\lmp\\_track.py:118\u001b[0m, in \u001b[0;36m_track.<locals>.tracked_func\u001b[1;34m(_get_invocation_id, *fn_args, **fn_kwargs)\u001b[0m\n\u001b[0;32m    110\u001b[0m _start_time \u001b[38;5;241m=\u001b[39m utc_now()\n\u001b[0;32m    112\u001b[0m \u001b[38;5;66;03m# XXX: thread saftey note, if I prevent yielding right here and get the global context I should be fine re: cache key problem\u001b[39;00m\n\u001b[0;32m    113\u001b[0m \n\u001b[0;32m    114\u001b[0m \u001b[38;5;66;03m# get the prompt\u001b[39;00m\n\u001b[0;32m    115\u001b[0m (result, invocation_api_params, metadata) \u001b[38;5;241m=\u001b[39m (\n\u001b[0;32m    116\u001b[0m     (func_to_track(\u001b[38;5;241m*\u001b[39mfn_args, \u001b[38;5;241m*\u001b[39m\u001b[38;5;241m*\u001b[39mfn_kwargs), {}, {})\n\u001b[0;32m    117\u001b[0m     \u001b[38;5;28;01mif\u001b[39;00m lmp_type \u001b[38;5;241m==\u001b[39m LMPType\u001b[38;5;241m.\u001b[39mOTHER\n\u001b[1;32m--> 118\u001b[0m     \u001b[38;5;28;01melse\u001b[39;00m \u001b[43mfunc_to_track\u001b[49m\u001b[43m(\u001b[49m\u001b[38;5;241;43m*\u001b[39;49m\u001b[43mfn_args\u001b[49m\u001b[43m,\u001b[49m\u001b[43m \u001b[49m\u001b[43m_invocation_origin\u001b[49m\u001b[38;5;241;43m=\u001b[39;49m\u001b[43minvocation_id\u001b[49m\u001b[43m,\u001b[49m\u001b[43m \u001b[49m\u001b[38;5;241;43m*\u001b[39;49m\u001b[38;5;241;43m*\u001b[39;49m\u001b[43mfn_kwargs\u001b[49m\u001b[43m,\u001b[49m\u001b[43m \u001b[49m\u001b[43m)\u001b[49m\n\u001b[0;32m    119\u001b[0m     )\n\u001b[0;32m    120\u001b[0m latency_ms \u001b[38;5;241m=\u001b[39m (utc_now() \u001b[38;5;241m-\u001b[39m _start_time)\u001b[38;5;241m.\u001b[39mtotal_seconds() \u001b[38;5;241m*\u001b[39m \u001b[38;5;241m1000\u001b[39m\n\u001b[0;32m    121\u001b[0m usage \u001b[38;5;241m=\u001b[39m metadata\u001b[38;5;241m.\u001b[39mget(\u001b[38;5;124m\"\u001b[39m\u001b[38;5;124musage\u001b[39m\u001b[38;5;124m\"\u001b[39m, {\u001b[38;5;124m\"\u001b[39m\u001b[38;5;124mprompt_tokens\u001b[39m\u001b[38;5;124m\"\u001b[39m: \u001b[38;5;241m0\u001b[39m, \u001b[38;5;124m\"\u001b[39m\u001b[38;5;124mcompletion_tokens\u001b[39m\u001b[38;5;124m\"\u001b[39m: \u001b[38;5;241m0\u001b[39m})\n",
      "File \u001b[1;32mc:\\Users\\kexu\\scoop\\apps\\miniconda3\\current\\envs\\langchain\\Lib\\site-packages\\ell\\lmp\\complex.py:68\u001b[0m, in \u001b[0;36mcomplex.<locals>.parameterized_lm_decorator.<locals>.model_call\u001b[1;34m(_invocation_origin, client, api_params, lm_params, *prompt_args, **prompt_kwargs)\u001b[0m\n\u001b[0;32m     66\u001b[0m \u001b[38;5;28;01mif\u001b[39;00m should_log: model_usage_logger_post_start(n)\n\u001b[0;32m     67\u001b[0m \u001b[38;5;28;01mwith\u001b[39;00m model_usage_logger_post_intermediate(n) \u001b[38;5;28;01mas\u001b[39;00m _logger:\n\u001b[1;32m---> 68\u001b[0m     (result, final_api_params, metadata) \u001b[38;5;241m=\u001b[39m \u001b[43mprovider\u001b[49m\u001b[38;5;241;43m.\u001b[39;49m\u001b[43mcall\u001b[49m\u001b[43m(\u001b[49m\u001b[43mell_call\u001b[49m\u001b[43m,\u001b[49m\u001b[43m \u001b[49m\u001b[43morigin_id\u001b[49m\u001b[38;5;241;43m=\u001b[39;49m\u001b[43m_invocation_origin\u001b[49m\u001b[43m,\u001b[49m\u001b[43m \u001b[49m\u001b[43mlogger\u001b[49m\u001b[38;5;241;43m=\u001b[39;49m\u001b[43m_logger\u001b[49m\u001b[43m \u001b[49m\u001b[38;5;28;43;01mif\u001b[39;49;00m\u001b[43m \u001b[49m\u001b[43mshould_log\u001b[49m\u001b[43m \u001b[49m\u001b[38;5;28;43;01melse\u001b[39;49;00m\u001b[43m \u001b[49m\u001b[38;5;28;43;01mNone\u001b[39;49;00m\u001b[43m)\u001b[49m\n\u001b[0;32m     69\u001b[0m     \u001b[38;5;28;01mif\u001b[39;00m \u001b[38;5;28misinstance\u001b[39m(result, \u001b[38;5;28mlist\u001b[39m) \u001b[38;5;129;01mand\u001b[39;00m \u001b[38;5;28mlen\u001b[39m(result) \u001b[38;5;241m==\u001b[39m \u001b[38;5;241m1\u001b[39m:\n\u001b[0;32m     70\u001b[0m         result \u001b[38;5;241m=\u001b[39m result[\u001b[38;5;241m0\u001b[39m]\n",
      "File \u001b[1;32mc:\\Users\\kexu\\scoop\\apps\\miniconda3\\current\\envs\\langchain\\Lib\\site-packages\\ell\\provider.py:127\u001b[0m, in \u001b[0;36mProvider.call\u001b[1;34m(self, ell_call, origin_id, logger)\u001b[0m\n\u001b[0;32m    122\u001b[0m \u001b[38;5;28;01massert\u001b[39;00m \u001b[38;5;28mself\u001b[39m\u001b[38;5;241m.\u001b[39mdangerous_disable_validation \u001b[38;5;129;01mor\u001b[39;00m _validate_provider_call_params(final_api_call_params, call)\n\u001b[0;32m    125\u001b[0m provider_resp \u001b[38;5;241m=\u001b[39m call(\u001b[38;5;241m*\u001b[39m\u001b[38;5;241m*\u001b[39mfinal_api_call_params)\n\u001b[1;32m--> 127\u001b[0m messages, metadata \u001b[38;5;241m=\u001b[39m \u001b[38;5;28;43mself\u001b[39;49m\u001b[38;5;241;43m.\u001b[39;49m\u001b[43mtranslate_from_provider\u001b[49m\u001b[43m(\u001b[49m\n\u001b[0;32m    128\u001b[0m \u001b[43m    \u001b[49m\u001b[43mprovider_resp\u001b[49m\u001b[43m,\u001b[49m\u001b[43m \u001b[49m\u001b[43mell_call\u001b[49m\u001b[43m,\u001b[49m\u001b[43m \u001b[49m\u001b[43mfinal_api_call_params\u001b[49m\u001b[43m,\u001b[49m\u001b[43m \u001b[49m\u001b[43morigin_id\u001b[49m\u001b[43m,\u001b[49m\u001b[43m \u001b[49m\u001b[43mlogger\u001b[49m\n\u001b[0;32m    129\u001b[0m \u001b[43m\u001b[49m\u001b[43m)\u001b[49m\n\u001b[0;32m    130\u001b[0m \u001b[38;5;28;01massert\u001b[39;00m \u001b[38;5;124m\"\u001b[39m\u001b[38;5;124mchoices\u001b[39m\u001b[38;5;124m\"\u001b[39m \u001b[38;5;129;01mnot\u001b[39;00m \u001b[38;5;129;01min\u001b[39;00m metadata, \u001b[38;5;124m\"\u001b[39m\u001b[38;5;124mchoices should be in the metadata.\u001b[39m\u001b[38;5;124m\"\u001b[39m\n\u001b[0;32m    131\u001b[0m \u001b[38;5;28;01massert\u001b[39;00m \u001b[38;5;28mself\u001b[39m\u001b[38;5;241m.\u001b[39mdangerous_disable_validation \u001b[38;5;129;01mor\u001b[39;00m _validate_messages_are_tracked(messages, origin_id)\n",
      "File \u001b[1;32mc:\\Users\\kexu\\scoop\\apps\\miniconda3\\current\\envs\\langchain\\Lib\\site-packages\\ell\\providers\\openai.py:114\u001b[0m, in \u001b[0;36mOpenAIProvider.translate_from_provider\u001b[1;34m(self, provider_response, ell_call, provider_call_params, origin_id, logger)\u001b[0m\n\u001b[0;32m    112\u001b[0m message_streams \u001b[38;5;241m=\u001b[39m defaultdict(\u001b[38;5;28mlist\u001b[39m)\n\u001b[0;32m    113\u001b[0m role : Optional[\u001b[38;5;28mstr\u001b[39m] \u001b[38;5;241m=\u001b[39m \u001b[38;5;28;01mNone\u001b[39;00m\n\u001b[1;32m--> 114\u001b[0m \u001b[43m\u001b[49m\u001b[38;5;28;43;01mfor\u001b[39;49;00m\u001b[43m \u001b[49m\u001b[43mchunk\u001b[49m\u001b[43m \u001b[49m\u001b[38;5;129;43;01min\u001b[39;49;00m\u001b[43m \u001b[49m\u001b[43mstream\u001b[49m\u001b[43m:\u001b[49m\u001b[43m \u001b[49m\n\u001b[0;32m    115\u001b[0m \u001b[43m    \u001b[49m\u001b[43mmetadata\u001b[49m\u001b[38;5;241;43m.\u001b[39;49m\u001b[43mupdate\u001b[49m\u001b[43m(\u001b[49m\u001b[43mchunk\u001b[49m\u001b[38;5;241;43m.\u001b[39;49m\u001b[43mmodel_dump\u001b[49m\u001b[43m(\u001b[49m\u001b[43mexclude\u001b[49m\u001b[38;5;241;43m=\u001b[39;49m\u001b[43m{\u001b[49m\u001b[38;5;124;43m\"\u001b[39;49m\u001b[38;5;124;43mchoices\u001b[39;49m\u001b[38;5;124;43m\"\u001b[39;49m\u001b[43m}\u001b[49m\u001b[43m)\u001b[49m\u001b[43m)\u001b[49m\u001b[43m \u001b[49m\n\u001b[0;32m    117\u001b[0m \u001b[43m    \u001b[49m\u001b[38;5;28;43;01mfor\u001b[39;49;00m\u001b[43m \u001b[49m\u001b[43mchat_compl_chunk\u001b[49m\u001b[43m \u001b[49m\u001b[38;5;129;43;01min\u001b[39;49;00m\u001b[43m \u001b[49m\u001b[43mchunk\u001b[49m\u001b[38;5;241;43m.\u001b[39;49m\u001b[43mchoices\u001b[49m\u001b[43m:\u001b[49m\n",
      "File \u001b[1;32mc:\\Users\\kexu\\scoop\\apps\\miniconda3\\current\\envs\\langchain\\Lib\\site-packages\\openai\\_streaming.py:46\u001b[0m, in \u001b[0;36mStream.__iter__\u001b[1;34m(self)\u001b[0m\n\u001b[0;32m     45\u001b[0m \u001b[38;5;28;01mdef\u001b[39;00m \u001b[38;5;21m__iter__\u001b[39m(\u001b[38;5;28mself\u001b[39m) \u001b[38;5;241m-\u001b[39m\u001b[38;5;241m>\u001b[39m Iterator[_T]:\n\u001b[1;32m---> 46\u001b[0m \u001b[43m    \u001b[49m\u001b[38;5;28;43;01mfor\u001b[39;49;00m\u001b[43m \u001b[49m\u001b[43mitem\u001b[49m\u001b[43m \u001b[49m\u001b[38;5;129;43;01min\u001b[39;49;00m\u001b[43m \u001b[49m\u001b[38;5;28;43mself\u001b[39;49m\u001b[38;5;241;43m.\u001b[39;49m\u001b[43m_iterator\u001b[49m\u001b[43m:\u001b[49m\n\u001b[0;32m     47\u001b[0m \u001b[43m        \u001b[49m\u001b[38;5;28;43;01myield\u001b[39;49;00m\u001b[43m \u001b[49m\u001b[43mitem\u001b[49m\n",
      "File \u001b[1;32mc:\\Users\\kexu\\scoop\\apps\\miniconda3\\current\\envs\\langchain\\Lib\\site-packages\\openai\\_streaming.py:58\u001b[0m, in \u001b[0;36mStream.__stream__\u001b[1;34m(self)\u001b[0m\n\u001b[0;32m     55\u001b[0m process_data \u001b[38;5;241m=\u001b[39m \u001b[38;5;28mself\u001b[39m\u001b[38;5;241m.\u001b[39m_client\u001b[38;5;241m.\u001b[39m_process_response_data\n\u001b[0;32m     56\u001b[0m iterator \u001b[38;5;241m=\u001b[39m \u001b[38;5;28mself\u001b[39m\u001b[38;5;241m.\u001b[39m_iter_events()\n\u001b[1;32m---> 58\u001b[0m \u001b[43m\u001b[49m\u001b[38;5;28;43;01mfor\u001b[39;49;00m\u001b[43m \u001b[49m\u001b[43msse\u001b[49m\u001b[43m \u001b[49m\u001b[38;5;129;43;01min\u001b[39;49;00m\u001b[43m \u001b[49m\u001b[43miterator\u001b[49m\u001b[43m:\u001b[49m\n\u001b[0;32m     59\u001b[0m \u001b[43m    \u001b[49m\u001b[38;5;28;43;01mif\u001b[39;49;00m\u001b[43m \u001b[49m\u001b[43msse\u001b[49m\u001b[38;5;241;43m.\u001b[39;49m\u001b[43mdata\u001b[49m\u001b[38;5;241;43m.\u001b[39;49m\u001b[43mstartswith\u001b[49m\u001b[43m(\u001b[49m\u001b[38;5;124;43m\"\u001b[39;49m\u001b[38;5;124;43m[DONE]\u001b[39;49m\u001b[38;5;124;43m\"\u001b[39;49m\u001b[43m)\u001b[49m\u001b[43m:\u001b[49m\n\u001b[0;32m     60\u001b[0m \u001b[43m        \u001b[49m\u001b[38;5;28;43;01mbreak\u001b[39;49;00m\n",
      "File \u001b[1;32mc:\\Users\\kexu\\scoop\\apps\\miniconda3\\current\\envs\\langchain\\Lib\\site-packages\\openai\\_streaming.py:50\u001b[0m, in \u001b[0;36mStream._iter_events\u001b[1;34m(self)\u001b[0m\n\u001b[0;32m     49\u001b[0m \u001b[38;5;28;01mdef\u001b[39;00m \u001b[38;5;21m_iter_events\u001b[39m(\u001b[38;5;28mself\u001b[39m) \u001b[38;5;241m-\u001b[39m\u001b[38;5;241m>\u001b[39m Iterator[ServerSentEvent]:\n\u001b[1;32m---> 50\u001b[0m     \u001b[38;5;28;01myield from\u001b[39;00m \u001b[38;5;28mself\u001b[39m\u001b[38;5;241m.\u001b[39m_decoder\u001b[38;5;241m.\u001b[39miter_bytes(\u001b[38;5;28mself\u001b[39m\u001b[38;5;241m.\u001b[39mresponse\u001b[38;5;241m.\u001b[39miter_bytes())\n",
      "File \u001b[1;32mc:\\Users\\kexu\\scoop\\apps\\miniconda3\\current\\envs\\langchain\\Lib\\site-packages\\openai\\_streaming.py:280\u001b[0m, in \u001b[0;36mSSEDecoder.iter_bytes\u001b[1;34m(self, iterator)\u001b[0m\n\u001b[0;32m    278\u001b[0m \u001b[38;5;28;01mdef\u001b[39;00m \u001b[38;5;21miter_bytes\u001b[39m(\u001b[38;5;28mself\u001b[39m, iterator: Iterator[\u001b[38;5;28mbytes\u001b[39m]) \u001b[38;5;241m-\u001b[39m\u001b[38;5;241m>\u001b[39m Iterator[ServerSentEvent]:\n\u001b[0;32m    279\u001b[0m \u001b[38;5;250m    \u001b[39m\u001b[38;5;124;03m\"\"\"Given an iterator that yields raw binary data, iterate over it & yield every event encountered\"\"\"\u001b[39;00m\n\u001b[1;32m--> 280\u001b[0m \u001b[43m    \u001b[49m\u001b[38;5;28;43;01mfor\u001b[39;49;00m\u001b[43m \u001b[49m\u001b[43mchunk\u001b[49m\u001b[43m \u001b[49m\u001b[38;5;129;43;01min\u001b[39;49;00m\u001b[43m \u001b[49m\u001b[38;5;28;43mself\u001b[39;49m\u001b[38;5;241;43m.\u001b[39;49m\u001b[43m_iter_chunks\u001b[49m\u001b[43m(\u001b[49m\u001b[43miterator\u001b[49m\u001b[43m)\u001b[49m\u001b[43m:\u001b[49m\n\u001b[0;32m    281\u001b[0m \u001b[43m        \u001b[49m\u001b[38;5;66;43;03m# Split before decoding so splitlines() only uses \\r and \\n\u001b[39;49;00m\n\u001b[0;32m    282\u001b[0m \u001b[43m        \u001b[49m\u001b[38;5;28;43;01mfor\u001b[39;49;00m\u001b[43m \u001b[49m\u001b[43mraw_line\u001b[49m\u001b[43m \u001b[49m\u001b[38;5;129;43;01min\u001b[39;49;00m\u001b[43m \u001b[49m\u001b[43mchunk\u001b[49m\u001b[38;5;241;43m.\u001b[39;49m\u001b[43msplitlines\u001b[49m\u001b[43m(\u001b[49m\u001b[43m)\u001b[49m\u001b[43m:\u001b[49m\n\u001b[0;32m    283\u001b[0m \u001b[43m            \u001b[49m\u001b[43mline\u001b[49m\u001b[43m \u001b[49m\u001b[38;5;241;43m=\u001b[39;49m\u001b[43m \u001b[49m\u001b[43mraw_line\u001b[49m\u001b[38;5;241;43m.\u001b[39;49m\u001b[43mdecode\u001b[49m\u001b[43m(\u001b[49m\u001b[38;5;124;43m\"\u001b[39;49m\u001b[38;5;124;43mutf-8\u001b[39;49m\u001b[38;5;124;43m\"\u001b[39;49m\u001b[43m)\u001b[49m\n",
      "File \u001b[1;32mc:\\Users\\kexu\\scoop\\apps\\miniconda3\\current\\envs\\langchain\\Lib\\site-packages\\openai\\_streaming.py:291\u001b[0m, in \u001b[0;36mSSEDecoder._iter_chunks\u001b[1;34m(self, iterator)\u001b[0m\n\u001b[0;32m    289\u001b[0m \u001b[38;5;250m\u001b[39m\u001b[38;5;124;03m\"\"\"Given an iterator that yields raw binary data, iterate over it and yield individual SSE chunks\"\"\"\u001b[39;00m\n\u001b[0;32m    290\u001b[0m data \u001b[38;5;241m=\u001b[39m \u001b[38;5;124mb\u001b[39m\u001b[38;5;124m\"\u001b[39m\u001b[38;5;124m\"\u001b[39m\n\u001b[1;32m--> 291\u001b[0m \u001b[43m\u001b[49m\u001b[38;5;28;43;01mfor\u001b[39;49;00m\u001b[43m \u001b[49m\u001b[43mchunk\u001b[49m\u001b[43m \u001b[49m\u001b[38;5;129;43;01min\u001b[39;49;00m\u001b[43m \u001b[49m\u001b[43miterator\u001b[49m\u001b[43m:\u001b[49m\n\u001b[0;32m    292\u001b[0m \u001b[43m    \u001b[49m\u001b[38;5;28;43;01mfor\u001b[39;49;00m\u001b[43m \u001b[49m\u001b[43mline\u001b[49m\u001b[43m \u001b[49m\u001b[38;5;129;43;01min\u001b[39;49;00m\u001b[43m \u001b[49m\u001b[43mchunk\u001b[49m\u001b[38;5;241;43m.\u001b[39;49m\u001b[43msplitlines\u001b[49m\u001b[43m(\u001b[49m\u001b[43mkeepends\u001b[49m\u001b[38;5;241;43m=\u001b[39;49m\u001b[38;5;28;43;01mTrue\u001b[39;49;00m\u001b[43m)\u001b[49m\u001b[43m:\u001b[49m\n\u001b[0;32m    293\u001b[0m \u001b[43m        \u001b[49m\u001b[43mdata\u001b[49m\u001b[43m \u001b[49m\u001b[38;5;241;43m+\u001b[39;49m\u001b[38;5;241;43m=\u001b[39;49m\u001b[43m \u001b[49m\u001b[43mline\u001b[49m\n",
      "File \u001b[1;32mc:\\Users\\kexu\\scoop\\apps\\miniconda3\\current\\envs\\langchain\\Lib\\site-packages\\httpx\\_models.py:829\u001b[0m, in \u001b[0;36mResponse.iter_bytes\u001b[1;34m(self, chunk_size)\u001b[0m\n\u001b[0;32m    827\u001b[0m chunker \u001b[38;5;241m=\u001b[39m ByteChunker(chunk_size\u001b[38;5;241m=\u001b[39mchunk_size)\n\u001b[0;32m    828\u001b[0m \u001b[38;5;28;01mwith\u001b[39;00m request_context(request\u001b[38;5;241m=\u001b[39m\u001b[38;5;28mself\u001b[39m\u001b[38;5;241m.\u001b[39m_request):\n\u001b[1;32m--> 829\u001b[0m \u001b[43m    \u001b[49m\u001b[38;5;28;43;01mfor\u001b[39;49;00m\u001b[43m \u001b[49m\u001b[43mraw_bytes\u001b[49m\u001b[43m \u001b[49m\u001b[38;5;129;43;01min\u001b[39;49;00m\u001b[43m \u001b[49m\u001b[38;5;28;43mself\u001b[39;49m\u001b[38;5;241;43m.\u001b[39;49m\u001b[43miter_raw\u001b[49m\u001b[43m(\u001b[49m\u001b[43m)\u001b[49m\u001b[43m:\u001b[49m\n\u001b[0;32m    830\u001b[0m \u001b[43m        \u001b[49m\u001b[43mdecoded\u001b[49m\u001b[43m \u001b[49m\u001b[38;5;241;43m=\u001b[39;49m\u001b[43m \u001b[49m\u001b[43mdecoder\u001b[49m\u001b[38;5;241;43m.\u001b[39;49m\u001b[43mdecode\u001b[49m\u001b[43m(\u001b[49m\u001b[43mraw_bytes\u001b[49m\u001b[43m)\u001b[49m\n\u001b[0;32m    831\u001b[0m \u001b[43m        \u001b[49m\u001b[38;5;28;43;01mfor\u001b[39;49;00m\u001b[43m \u001b[49m\u001b[43mchunk\u001b[49m\u001b[43m \u001b[49m\u001b[38;5;129;43;01min\u001b[39;49;00m\u001b[43m \u001b[49m\u001b[43mchunker\u001b[49m\u001b[38;5;241;43m.\u001b[39;49m\u001b[43mdecode\u001b[49m\u001b[43m(\u001b[49m\u001b[43mdecoded\u001b[49m\u001b[43m)\u001b[49m\u001b[43m:\u001b[49m\n",
      "File \u001b[1;32mc:\\Users\\kexu\\scoop\\apps\\miniconda3\\current\\envs\\langchain\\Lib\\site-packages\\httpx\\_models.py:883\u001b[0m, in \u001b[0;36mResponse.iter_raw\u001b[1;34m(self, chunk_size)\u001b[0m\n\u001b[0;32m    880\u001b[0m chunker \u001b[38;5;241m=\u001b[39m ByteChunker(chunk_size\u001b[38;5;241m=\u001b[39mchunk_size)\n\u001b[0;32m    882\u001b[0m \u001b[38;5;28;01mwith\u001b[39;00m request_context(request\u001b[38;5;241m=\u001b[39m\u001b[38;5;28mself\u001b[39m\u001b[38;5;241m.\u001b[39m_request):\n\u001b[1;32m--> 883\u001b[0m \u001b[43m    \u001b[49m\u001b[38;5;28;43;01mfor\u001b[39;49;00m\u001b[43m \u001b[49m\u001b[43mraw_stream_bytes\u001b[49m\u001b[43m \u001b[49m\u001b[38;5;129;43;01min\u001b[39;49;00m\u001b[43m \u001b[49m\u001b[38;5;28;43mself\u001b[39;49m\u001b[38;5;241;43m.\u001b[39;49m\u001b[43mstream\u001b[49m\u001b[43m:\u001b[49m\n\u001b[0;32m    884\u001b[0m \u001b[43m        \u001b[49m\u001b[38;5;28;43mself\u001b[39;49m\u001b[38;5;241;43m.\u001b[39;49m\u001b[43m_num_bytes_downloaded\u001b[49m\u001b[43m \u001b[49m\u001b[38;5;241;43m+\u001b[39;49m\u001b[38;5;241;43m=\u001b[39;49m\u001b[43m \u001b[49m\u001b[38;5;28;43mlen\u001b[39;49m\u001b[43m(\u001b[49m\u001b[43mraw_stream_bytes\u001b[49m\u001b[43m)\u001b[49m\n\u001b[0;32m    885\u001b[0m \u001b[43m        \u001b[49m\u001b[38;5;28;43;01mfor\u001b[39;49;00m\u001b[43m \u001b[49m\u001b[43mchunk\u001b[49m\u001b[43m \u001b[49m\u001b[38;5;129;43;01min\u001b[39;49;00m\u001b[43m \u001b[49m\u001b[43mchunker\u001b[49m\u001b[38;5;241;43m.\u001b[39;49m\u001b[43mdecode\u001b[49m\u001b[43m(\u001b[49m\u001b[43mraw_stream_bytes\u001b[49m\u001b[43m)\u001b[49m\u001b[43m:\u001b[49m\n",
      "File \u001b[1;32mc:\\Users\\kexu\\scoop\\apps\\miniconda3\\current\\envs\\langchain\\Lib\\site-packages\\httpx\\_client.py:126\u001b[0m, in \u001b[0;36mBoundSyncStream.__iter__\u001b[1;34m(self)\u001b[0m\n\u001b[0;32m    125\u001b[0m \u001b[38;5;28;01mdef\u001b[39;00m \u001b[38;5;21m__iter__\u001b[39m(\u001b[38;5;28mself\u001b[39m) \u001b[38;5;241m-\u001b[39m\u001b[38;5;241m>\u001b[39m typing\u001b[38;5;241m.\u001b[39mIterator[\u001b[38;5;28mbytes\u001b[39m]:\n\u001b[1;32m--> 126\u001b[0m \u001b[43m    \u001b[49m\u001b[38;5;28;43;01mfor\u001b[39;49;00m\u001b[43m \u001b[49m\u001b[43mchunk\u001b[49m\u001b[43m \u001b[49m\u001b[38;5;129;43;01min\u001b[39;49;00m\u001b[43m \u001b[49m\u001b[38;5;28;43mself\u001b[39;49m\u001b[38;5;241;43m.\u001b[39;49m\u001b[43m_stream\u001b[49m\u001b[43m:\u001b[49m\n\u001b[0;32m    127\u001b[0m \u001b[43m        \u001b[49m\u001b[38;5;28;43;01myield\u001b[39;49;00m\u001b[43m \u001b[49m\u001b[43mchunk\u001b[49m\n",
      "File \u001b[1;32mc:\\Users\\kexu\\scoop\\apps\\miniconda3\\current\\envs\\langchain\\Lib\\site-packages\\httpx\\_transports\\default.py:113\u001b[0m, in \u001b[0;36mResponseStream.__iter__\u001b[1;34m(self)\u001b[0m\n\u001b[0;32m    111\u001b[0m \u001b[38;5;28;01mdef\u001b[39;00m \u001b[38;5;21m__iter__\u001b[39m(\u001b[38;5;28mself\u001b[39m) \u001b[38;5;241m-\u001b[39m\u001b[38;5;241m>\u001b[39m typing\u001b[38;5;241m.\u001b[39mIterator[\u001b[38;5;28mbytes\u001b[39m]:\n\u001b[0;32m    112\u001b[0m     \u001b[38;5;28;01mwith\u001b[39;00m map_httpcore_exceptions():\n\u001b[1;32m--> 113\u001b[0m \u001b[43m        \u001b[49m\u001b[38;5;28;43;01mfor\u001b[39;49;00m\u001b[43m \u001b[49m\u001b[43mpart\u001b[49m\u001b[43m \u001b[49m\u001b[38;5;129;43;01min\u001b[39;49;00m\u001b[43m \u001b[49m\u001b[38;5;28;43mself\u001b[39;49m\u001b[38;5;241;43m.\u001b[39;49m\u001b[43m_httpcore_stream\u001b[49m\u001b[43m:\u001b[49m\n\u001b[0;32m    114\u001b[0m \u001b[43m            \u001b[49m\u001b[38;5;28;43;01myield\u001b[39;49;00m\u001b[43m \u001b[49m\u001b[43mpart\u001b[49m\n",
      "File \u001b[1;32mc:\\Users\\kexu\\scoop\\apps\\miniconda3\\current\\envs\\langchain\\Lib\\site-packages\\httpcore\\_sync\\connection_pool.py:367\u001b[0m, in \u001b[0;36mPoolByteStream.__iter__\u001b[1;34m(self)\u001b[0m\n\u001b[0;32m    365\u001b[0m \u001b[38;5;28;01mexcept\u001b[39;00m \u001b[38;5;167;01mBaseException\u001b[39;00m \u001b[38;5;28;01mas\u001b[39;00m exc:\n\u001b[0;32m    366\u001b[0m     \u001b[38;5;28mself\u001b[39m\u001b[38;5;241m.\u001b[39mclose()\n\u001b[1;32m--> 367\u001b[0m     \u001b[38;5;28;01mraise\u001b[39;00m exc \u001b[38;5;28;01mfrom\u001b[39;00m \u001b[38;5;28;01mNone\u001b[39;00m\n",
      "File \u001b[1;32mc:\\Users\\kexu\\scoop\\apps\\miniconda3\\current\\envs\\langchain\\Lib\\site-packages\\httpcore\\_sync\\connection_pool.py:363\u001b[0m, in \u001b[0;36mPoolByteStream.__iter__\u001b[1;34m(self)\u001b[0m\n\u001b[0;32m    361\u001b[0m \u001b[38;5;28;01mdef\u001b[39;00m \u001b[38;5;21m__iter__\u001b[39m(\u001b[38;5;28mself\u001b[39m) \u001b[38;5;241m-\u001b[39m\u001b[38;5;241m>\u001b[39m Iterator[\u001b[38;5;28mbytes\u001b[39m]:\n\u001b[0;32m    362\u001b[0m     \u001b[38;5;28;01mtry\u001b[39;00m:\n\u001b[1;32m--> 363\u001b[0m \u001b[43m        \u001b[49m\u001b[38;5;28;43;01mfor\u001b[39;49;00m\u001b[43m \u001b[49m\u001b[43mpart\u001b[49m\u001b[43m \u001b[49m\u001b[38;5;129;43;01min\u001b[39;49;00m\u001b[43m \u001b[49m\u001b[38;5;28;43mself\u001b[39;49m\u001b[38;5;241;43m.\u001b[39;49m\u001b[43m_stream\u001b[49m\u001b[43m:\u001b[49m\n\u001b[0;32m    364\u001b[0m \u001b[43m            \u001b[49m\u001b[38;5;28;43;01myield\u001b[39;49;00m\u001b[43m \u001b[49m\u001b[43mpart\u001b[49m\n\u001b[0;32m    365\u001b[0m     \u001b[38;5;28;01mexcept\u001b[39;00m \u001b[38;5;167;01mBaseException\u001b[39;00m \u001b[38;5;28;01mas\u001b[39;00m exc:\n",
      "File \u001b[1;32mc:\\Users\\kexu\\scoop\\apps\\miniconda3\\current\\envs\\langchain\\Lib\\site-packages\\httpcore\\_sync\\http11.py:349\u001b[0m, in \u001b[0;36mHTTP11ConnectionByteStream.__iter__\u001b[1;34m(self)\u001b[0m\n\u001b[0;32m    347\u001b[0m \u001b[38;5;28;01mwith\u001b[39;00m ShieldCancellation():\n\u001b[0;32m    348\u001b[0m     \u001b[38;5;28mself\u001b[39m\u001b[38;5;241m.\u001b[39mclose()\n\u001b[1;32m--> 349\u001b[0m \u001b[38;5;28;01mraise\u001b[39;00m exc\n",
      "File \u001b[1;32mc:\\Users\\kexu\\scoop\\apps\\miniconda3\\current\\envs\\langchain\\Lib\\site-packages\\httpcore\\_sync\\http11.py:341\u001b[0m, in \u001b[0;36mHTTP11ConnectionByteStream.__iter__\u001b[1;34m(self)\u001b[0m\n\u001b[0;32m    339\u001b[0m \u001b[38;5;28;01mtry\u001b[39;00m:\n\u001b[0;32m    340\u001b[0m     \u001b[38;5;28;01mwith\u001b[39;00m Trace(\u001b[38;5;124m\"\u001b[39m\u001b[38;5;124mreceive_response_body\u001b[39m\u001b[38;5;124m\"\u001b[39m, logger, \u001b[38;5;28mself\u001b[39m\u001b[38;5;241m.\u001b[39m_request, kwargs):\n\u001b[1;32m--> 341\u001b[0m \u001b[43m        \u001b[49m\u001b[38;5;28;43;01mfor\u001b[39;49;00m\u001b[43m \u001b[49m\u001b[43mchunk\u001b[49m\u001b[43m \u001b[49m\u001b[38;5;129;43;01min\u001b[39;49;00m\u001b[43m \u001b[49m\u001b[38;5;28;43mself\u001b[39;49m\u001b[38;5;241;43m.\u001b[39;49m\u001b[43m_connection\u001b[49m\u001b[38;5;241;43m.\u001b[39;49m\u001b[43m_receive_response_body\u001b[49m\u001b[43m(\u001b[49m\u001b[38;5;241;43m*\u001b[39;49m\u001b[38;5;241;43m*\u001b[39;49m\u001b[43mkwargs\u001b[49m\u001b[43m)\u001b[49m\u001b[43m:\u001b[49m\n\u001b[0;32m    342\u001b[0m \u001b[43m            \u001b[49m\u001b[38;5;28;43;01myield\u001b[39;49;00m\u001b[43m \u001b[49m\u001b[43mchunk\u001b[49m\n\u001b[0;32m    343\u001b[0m \u001b[38;5;28;01mexcept\u001b[39;00m \u001b[38;5;167;01mBaseException\u001b[39;00m \u001b[38;5;28;01mas\u001b[39;00m exc:\n\u001b[0;32m    344\u001b[0m     \u001b[38;5;66;03m# If we get an exception while streaming the response,\u001b[39;00m\n\u001b[0;32m    345\u001b[0m     \u001b[38;5;66;03m# we want to close the response (and possibly the connection)\u001b[39;00m\n\u001b[0;32m    346\u001b[0m     \u001b[38;5;66;03m# before raising that exception.\u001b[39;00m\n",
      "File \u001b[1;32mc:\\Users\\kexu\\scoop\\apps\\miniconda3\\current\\envs\\langchain\\Lib\\site-packages\\httpcore\\_sync\\http11.py:210\u001b[0m, in \u001b[0;36mHTTP11Connection._receive_response_body\u001b[1;34m(self, request)\u001b[0m\n\u001b[0;32m    207\u001b[0m timeout \u001b[38;5;241m=\u001b[39m timeouts\u001b[38;5;241m.\u001b[39mget(\u001b[38;5;124m\"\u001b[39m\u001b[38;5;124mread\u001b[39m\u001b[38;5;124m\"\u001b[39m, \u001b[38;5;28;01mNone\u001b[39;00m)\n\u001b[0;32m    209\u001b[0m \u001b[38;5;28;01mwhile\u001b[39;00m \u001b[38;5;28;01mTrue\u001b[39;00m:\n\u001b[1;32m--> 210\u001b[0m     event \u001b[38;5;241m=\u001b[39m \u001b[38;5;28;43mself\u001b[39;49m\u001b[38;5;241;43m.\u001b[39;49m\u001b[43m_receive_event\u001b[49m\u001b[43m(\u001b[49m\u001b[43mtimeout\u001b[49m\u001b[38;5;241;43m=\u001b[39;49m\u001b[43mtimeout\u001b[49m\u001b[43m)\u001b[49m\n\u001b[0;32m    211\u001b[0m     \u001b[38;5;28;01mif\u001b[39;00m \u001b[38;5;28misinstance\u001b[39m(event, h11\u001b[38;5;241m.\u001b[39mData):\n\u001b[0;32m    212\u001b[0m         \u001b[38;5;28;01myield\u001b[39;00m \u001b[38;5;28mbytes\u001b[39m(event\u001b[38;5;241m.\u001b[39mdata)\n",
      "File \u001b[1;32mc:\\Users\\kexu\\scoop\\apps\\miniconda3\\current\\envs\\langchain\\Lib\\site-packages\\httpcore\\_sync\\http11.py:224\u001b[0m, in \u001b[0;36mHTTP11Connection._receive_event\u001b[1;34m(self, timeout)\u001b[0m\n\u001b[0;32m    221\u001b[0m     event \u001b[38;5;241m=\u001b[39m \u001b[38;5;28mself\u001b[39m\u001b[38;5;241m.\u001b[39m_h11_state\u001b[38;5;241m.\u001b[39mnext_event()\n\u001b[0;32m    223\u001b[0m \u001b[38;5;28;01mif\u001b[39;00m event \u001b[38;5;129;01mis\u001b[39;00m h11\u001b[38;5;241m.\u001b[39mNEED_DATA:\n\u001b[1;32m--> 224\u001b[0m     data \u001b[38;5;241m=\u001b[39m \u001b[38;5;28;43mself\u001b[39;49m\u001b[38;5;241;43m.\u001b[39;49m\u001b[43m_network_stream\u001b[49m\u001b[38;5;241;43m.\u001b[39;49m\u001b[43mread\u001b[49m\u001b[43m(\u001b[49m\n\u001b[0;32m    225\u001b[0m \u001b[43m        \u001b[49m\u001b[38;5;28;43mself\u001b[39;49m\u001b[38;5;241;43m.\u001b[39;49m\u001b[43mREAD_NUM_BYTES\u001b[49m\u001b[43m,\u001b[49m\u001b[43m \u001b[49m\u001b[43mtimeout\u001b[49m\u001b[38;5;241;43m=\u001b[39;49m\u001b[43mtimeout\u001b[49m\n\u001b[0;32m    226\u001b[0m \u001b[43m    \u001b[49m\u001b[43m)\u001b[49m\n\u001b[0;32m    228\u001b[0m     \u001b[38;5;66;03m# If we feed this case through h11 we'll raise an exception like:\u001b[39;00m\n\u001b[0;32m    229\u001b[0m     \u001b[38;5;66;03m#\u001b[39;00m\n\u001b[0;32m    230\u001b[0m     \u001b[38;5;66;03m#     httpcore.RemoteProtocolError: can't handle event type\u001b[39;00m\n\u001b[1;32m   (...)\u001b[0m\n\u001b[0;32m    234\u001b[0m     \u001b[38;5;66;03m# perspective. Instead we handle this case distinctly and treat\u001b[39;00m\n\u001b[0;32m    235\u001b[0m     \u001b[38;5;66;03m# it as a ConnectError.\u001b[39;00m\n\u001b[0;32m    236\u001b[0m     \u001b[38;5;28;01mif\u001b[39;00m data \u001b[38;5;241m==\u001b[39m \u001b[38;5;124mb\u001b[39m\u001b[38;5;124m\"\u001b[39m\u001b[38;5;124m\"\u001b[39m \u001b[38;5;129;01mand\u001b[39;00m \u001b[38;5;28mself\u001b[39m\u001b[38;5;241m.\u001b[39m_h11_state\u001b[38;5;241m.\u001b[39mtheir_state \u001b[38;5;241m==\u001b[39m h11\u001b[38;5;241m.\u001b[39mSEND_RESPONSE:\n",
      "File \u001b[1;32mc:\\Users\\kexu\\scoop\\apps\\miniconda3\\current\\envs\\langchain\\Lib\\site-packages\\httpcore\\_backends\\sync.py:126\u001b[0m, in \u001b[0;36mSyncStream.read\u001b[1;34m(self, max_bytes, timeout)\u001b[0m\n\u001b[0;32m    124\u001b[0m \u001b[38;5;28;01mwith\u001b[39;00m map_exceptions(exc_map):\n\u001b[0;32m    125\u001b[0m     \u001b[38;5;28mself\u001b[39m\u001b[38;5;241m.\u001b[39m_sock\u001b[38;5;241m.\u001b[39msettimeout(timeout)\n\u001b[1;32m--> 126\u001b[0m     \u001b[38;5;28;01mreturn\u001b[39;00m \u001b[38;5;28;43mself\u001b[39;49m\u001b[38;5;241;43m.\u001b[39;49m\u001b[43m_sock\u001b[49m\u001b[38;5;241;43m.\u001b[39;49m\u001b[43mrecv\u001b[49m\u001b[43m(\u001b[49m\u001b[43mmax_bytes\u001b[49m\u001b[43m)\u001b[49m\n",
      "File \u001b[1;32mc:\\Users\\kexu\\scoop\\apps\\miniconda3\\current\\envs\\langchain\\Lib\\ssl.py:1295\u001b[0m, in \u001b[0;36mSSLSocket.recv\u001b[1;34m(self, buflen, flags)\u001b[0m\n\u001b[0;32m   1291\u001b[0m     \u001b[38;5;28;01mif\u001b[39;00m flags \u001b[38;5;241m!=\u001b[39m \u001b[38;5;241m0\u001b[39m:\n\u001b[0;32m   1292\u001b[0m         \u001b[38;5;28;01mraise\u001b[39;00m \u001b[38;5;167;01mValueError\u001b[39;00m(\n\u001b[0;32m   1293\u001b[0m             \u001b[38;5;124m\"\u001b[39m\u001b[38;5;124mnon-zero flags not allowed in calls to recv() on \u001b[39m\u001b[38;5;132;01m%s\u001b[39;00m\u001b[38;5;124m\"\u001b[39m \u001b[38;5;241m%\u001b[39m\n\u001b[0;32m   1294\u001b[0m             \u001b[38;5;28mself\u001b[39m\u001b[38;5;241m.\u001b[39m\u001b[38;5;18m__class__\u001b[39m)\n\u001b[1;32m-> 1295\u001b[0m     \u001b[38;5;28;01mreturn\u001b[39;00m \u001b[38;5;28;43mself\u001b[39;49m\u001b[38;5;241;43m.\u001b[39;49m\u001b[43mread\u001b[49m\u001b[43m(\u001b[49m\u001b[43mbuflen\u001b[49m\u001b[43m)\u001b[49m\n\u001b[0;32m   1296\u001b[0m \u001b[38;5;28;01melse\u001b[39;00m:\n\u001b[0;32m   1297\u001b[0m     \u001b[38;5;28;01mreturn\u001b[39;00m \u001b[38;5;28msuper\u001b[39m()\u001b[38;5;241m.\u001b[39mrecv(buflen, flags)\n",
      "File \u001b[1;32mc:\\Users\\kexu\\scoop\\apps\\miniconda3\\current\\envs\\langchain\\Lib\\ssl.py:1168\u001b[0m, in \u001b[0;36mSSLSocket.read\u001b[1;34m(self, len, buffer)\u001b[0m\n\u001b[0;32m   1166\u001b[0m         \u001b[38;5;28;01mreturn\u001b[39;00m \u001b[38;5;28mself\u001b[39m\u001b[38;5;241m.\u001b[39m_sslobj\u001b[38;5;241m.\u001b[39mread(\u001b[38;5;28mlen\u001b[39m, buffer)\n\u001b[0;32m   1167\u001b[0m     \u001b[38;5;28;01melse\u001b[39;00m:\n\u001b[1;32m-> 1168\u001b[0m         \u001b[38;5;28;01mreturn\u001b[39;00m \u001b[38;5;28;43mself\u001b[39;49m\u001b[38;5;241;43m.\u001b[39;49m\u001b[43m_sslobj\u001b[49m\u001b[38;5;241;43m.\u001b[39;49m\u001b[43mread\u001b[49m\u001b[43m(\u001b[49m\u001b[38;5;28;43mlen\u001b[39;49m\u001b[43m)\u001b[49m\n\u001b[0;32m   1169\u001b[0m \u001b[38;5;28;01mexcept\u001b[39;00m SSLError \u001b[38;5;28;01mas\u001b[39;00m x:\n\u001b[0;32m   1170\u001b[0m     \u001b[38;5;28;01mif\u001b[39;00m x\u001b[38;5;241m.\u001b[39margs[\u001b[38;5;241m0\u001b[39m] \u001b[38;5;241m==\u001b[39m SSL_ERROR_EOF \u001b[38;5;129;01mand\u001b[39;00m \u001b[38;5;28mself\u001b[39m\u001b[38;5;241m.\u001b[39msuppress_ragged_eofs:\n",
      "\u001b[1;31mKeyboardInterrupt\u001b[0m: "
     ]
    }
   ],
   "source": [
    "import pandas as pd\n",
    "\n",
    "file_name = 'clt'\n",
    "\n",
    "df = pd.read_csv(f'./data/{file_name}.csv')\n",
    "\n",
    "results = []\n",
    "for i, row in df.iterrows():\n",
    "    summary = summary_article_by_abstract(\n",
    "        title=row['文献标题'],\n",
    "        abstract=row['摘要'],\n",
    "    )\n",
    "    \n",
    "    print(row['文献标题'])\n",
    "    print(summary)\n",
    "    print()\n",
    "    \n",
    "    results.append(\n",
    "        {\n",
    "            'title': row['文献标题'],\n",
    "            'summary': summary,\n",
    "        }\n",
    "    )"
   ]
  },
  {
   "cell_type": "code",
   "execution_count": null,
   "metadata": {},
   "outputs": [],
   "source": [
    "pip install -U pydantic"
   ]
  },
  {
   "cell_type": "code",
   "execution_count": null,
   "metadata": {},
   "outputs": [],
   "source": [
    "pip install -U pydantic"
   ]
  },
  {
   "cell_type": "code",
   "execution_count": null,
   "metadata": {},
   "outputs": [],
   "source": [
    "pip install -U pydantic"
   ]
  },
  {
   "cell_type": "code",
   "execution_count": null,
   "metadata": {},
   "outputs": [],
   "source": [
    "pip install -U pydantic"
   ]
  },
  {
   "cell_type": "code",
   "execution_count": null,
   "metadata": {},
   "outputs": [],
   "source": []
  }
 ],
 "metadata": {
  "kernelspec": {
   "display_name": "langchain",
   "language": "python",
   "name": "python3"
  },
  "language_info": {
   "codemirror_mode": {
    "name": "ipython",
    "version": 3
   },
   "file_extension": ".py",
   "mimetype": "text/x-python",
   "name": "python",
   "nbconvert_exporter": "python",
   "pygments_lexer": "ipython3",
   "version": "3.11.9"
  }
 },
 "nbformat": 4,
 "nbformat_minor": 2
}
