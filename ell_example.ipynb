{
 "cells": [
  {
   "cell_type": "code",
   "execution_count": 1,
   "metadata": {},
   "outputs": [],
   "source": [
    "from dotenv import find_dotenv, load_dotenv\n",
    "import os\n",
    "\n",
    "assert load_dotenv(find_dotenv())\n",
    "assert os.getenv('OPENAI_API_KEY')\n",
    "assert os.getenv('OPENAI_BASE_URL')"
   ]
  },
  {
   "cell_type": "code",
   "execution_count": null,
   "metadata": {},
   "outputs": [],
   "source": [
    "import ell\n",
    "from openai import OpenAI\n",
    "\n",
    "ell.init(store='./logdir', autocommit=True, verbose=True)\n",
    "client = OpenAI()\n",
    "\n",
    "@ell.simple(model='Qwen/Qwen2.5-72B-Instruct-128K', client=client, temperature=0.5)\n",
    "def hello(name: str):\n",
    "    \"\"\"You are a helpful assisiant!\"\"\"\n",
    "    return f\"Say hello to {name}!\"\n",
    "    \n",
    "hello(\"Alice\")"
   ]
  }
 ],
 "metadata": {
  "kernelspec": {
   "display_name": "langchain",
   "language": "python",
   "name": "python3"
  },
  "language_info": {
   "codemirror_mode": {
    "name": "ipython",
    "version": 3
   },
   "file_extension": ".py",
   "mimetype": "text/x-python",
   "name": "python",
   "nbconvert_exporter": "python",
   "pygments_lexer": "ipython3",
   "version": "3.11.9"
  }
 },
 "nbformat": 4,
 "nbformat_minor": 2
}
